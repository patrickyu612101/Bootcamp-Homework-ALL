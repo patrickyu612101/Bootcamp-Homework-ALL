{
 "cells": [
  {
   "cell_type": "code",
   "execution_count": 1,
   "metadata": {},
   "outputs": [
    {
     "data": {
      "text/html": [
       "<div>\n",
       "<style scoped>\n",
       "    .dataframe tbody tr th:only-of-type {\n",
       "        vertical-align: middle;\n",
       "    }\n",
       "\n",
       "    .dataframe tbody tr th {\n",
       "        vertical-align: top;\n",
       "    }\n",
       "\n",
       "    .dataframe thead th {\n",
       "        text-align: right;\n",
       "    }\n",
       "</style>\n",
       "<table border=\"1\" class=\"dataframe\">\n",
       "  <thead>\n",
       "    <tr style=\"text-align: right;\">\n",
       "      <th></th>\n",
       "      <th>Unnamed: 0</th>\n",
       "      <th>room_type</th>\n",
       "      <th>city</th>\n",
       "      <th>neighborhood</th>\n",
       "      <th>reviews</th>\n",
       "      <th>overall_satisfaction</th>\n",
       "      <th>accommodates</th>\n",
       "      <th>bedrooms</th>\n",
       "      <th>price</th>\n",
       "      <th>latitude</th>\n",
       "      <th>longitude</th>\n",
       "      <th>location</th>\n",
       "    </tr>\n",
       "  </thead>\n",
       "  <tbody>\n",
       "    <tr>\n",
       "      <th>0</th>\n",
       "      <td>0</td>\n",
       "      <td>Shared room</td>\n",
       "      <td>Boston</td>\n",
       "      <td>South End</td>\n",
       "      <td>0</td>\n",
       "      <td>0.0</td>\n",
       "      <td>1</td>\n",
       "      <td>1.0</td>\n",
       "      <td>500.0</td>\n",
       "      <td>42.341763</td>\n",
       "      <td>-71.075397</td>\n",
       "      <td>0101000020E6100000DB4DF04DD3C451C0CEFDD5E3BE2B...</td>\n",
       "    </tr>\n",
       "  </tbody>\n",
       "</table>\n",
       "</div>"
      ],
      "text/plain": [
       "   Unnamed: 0    room_type    city neighborhood  reviews  \\\n",
       "0           0  Shared room  Boston    South End        0   \n",
       "\n",
       "   overall_satisfaction  accommodates  bedrooms  price   latitude  longitude  \\\n",
       "0                   0.0             1       1.0  500.0  42.341763 -71.075397   \n",
       "\n",
       "                                            location  \n",
       "0  0101000020E6100000DB4DF04DD3C451C0CEFDD5E3BE2B...  "
      ]
     },
     "execution_count": 1,
     "metadata": {},
     "output_type": "execute_result"
    }
   ],
   "source": [
    "import pandas as pd\n",
    "import csv\n",
    "import matplotlib.pyplot as plt\n",
    "boston_clean=pd.read_csv(\"../Resources/Boston/Boston_cleandata.csv\")\n",
    "boston_clean.head(1)"
   ]
  },
  {
   "cell_type": "code",
   "execution_count": 2,
   "metadata": {},
   "outputs": [
    {
     "data": {
      "text/plain": [
       "Text(0,0.5,'Satisfaction')"
      ]
     },
     "execution_count": 2,
     "metadata": {},
     "output_type": "execute_result"
    },
    {
     "data": {
      "image/png": "[encoded data removed]",
      "text/plain": [
       "<Figure size 432x288 with 1 Axes>"
      ]
     },
     "metadata": {},
     "output_type": "display_data"
    }
   ],
   "source": [
    "\n",
    "#get the price vs overall satisfaction\n",
    "boston_price=boston_clean[\"price\"]\n",
    "boston_sat=boston_clean[\"overall_satisfaction\"]\n",
    "plt.scatter(boston_price,boston_sat,marker=\"o\",edgecolor=\"black\")\n",
    "\n",
    "plt.title(\"Boston Price vs Satisfaction\")\n",
    "plt.xlabel(\"Price\")\n",
    "plt.ylabel(\"Satisfaction\")"
   ]
  },
  {
   "cell_type": "code",
   "execution_count": 3,
   "metadata": {
    "scrolled": false
   },
   "outputs": [
    {
     "name": "stdout",
     "output_type": "stream",
     "text": [
      "['Shared room', 'Entire home/apt', 'Private room']\n",
      "[67.38235294117646, 220.6843365253078, 81.23817863397548]\n"
     ]
    },
    {
     "data": {
      "text/plain": [
       "Text(0,0.5,'Average Price')"
      ]
     },
     "execution_count": 3,
     "metadata": {},
     "output_type": "execute_result"
    },
    {
     "data": {
      "image/png": "[encoded data removed]",
      "text/plain": [
       "<Figure size 432x288 with 1 Axes>"
      ]
     },
     "metadata": {},
     "output_type": "display_data"
    }
   ],
   "source": [
    "#get room types  vs price and satisfaction\n",
    "    #find out the room type\n",
    "boston_rooms=boston_clean[\"room_type\"].unique()\n",
    "\n",
    "boston_roomlist=[]\n",
    "boston_roommean=[]\n",
    "# test=boston_alldata.loc[boston_alldata[\"room_type\"]==\"Entire home/apt\"][\"price\"].mean()\n",
    "# test\n",
    "for x in boston_rooms:\n",
    "    boston_roomlist.append(x)\n",
    "    boston_roommean.append(boston_clean.loc[boston_clean[\"room_type\"]==x][\"price\"].mean())\n",
    "print(boston_roomlist)\n",
    "print(boston_roommean)\n",
    "\n",
    "#plot them \n",
    "plt.bar(boston_roomlist,boston_roommean,align=\"center\")\n",
    "plt.title(\"Boston Room Type vs Average Price\")\n",
    "plt.xlabel(\"Room Type\")\n",
    "plt.ylabel(\"Average Price\")"
   ]
  },
  {
   "cell_type": "code",
   "execution_count": 4,
   "metadata": {},
   "outputs": [
    {
     "name": "stdout",
     "output_type": "stream",
     "text": [
      "[2.7941176470588234, 3.0530095759233924, 3.098073555166375]\n"
     ]
    },
    {
     "data": {
      "text/plain": [
       "Text(0.5,1,'Boston Room Type vs Satisfaction')"
      ]
     },
     "execution_count": 4,
     "metadata": {},
     "output_type": "execute_result"
    },
    {
     "data": {
      "image/png": "[encoded data removed]",
      "text/plain": [
       "<Figure size 432x288 with 1 Axes>"
      ]
     },
     "metadata": {},
     "output_type": "display_data"
    }
   ],
   "source": [
    "boston_roomsat=[]\n",
    "#get satis mean\n",
    "for x in boston_rooms:\n",
    "    boston_roomsat.append(boston_clean.loc[boston_clean[\"room_type\"]==x][\"overall_satisfaction\"].mean())\n",
    "boston_roomsat\n",
    "print(boston_roomsat)\n",
    "plt.bar(boston_roomlist,boston_roomsat,align=\"center\")\n",
    "plt.title(\"Boston Room Type vs Satisfaction\")"
   ]
  },
  {
   "cell_type": "code",
   "execution_count": 5,
   "metadata": {},
   "outputs": [
    {
     "data": {
      "text/plain": [
       "167.6990435706695"
      ]
     },
     "execution_count": 5,
     "metadata": {},
     "output_type": "execute_result"
    }
   ],
   "source": [
    "#overall Price average for boston\n",
    "BostonPrice=boston_clean[\"price\"].mean()\n",
    "BostonPrice"
   ]
  },
  {
   "cell_type": "code",
   "execution_count": 33,
   "metadata": {},
   "outputs": [
    {
     "data": {
      "text/plain": [
       "([0, 1, 2, 3, 4, 5, 6, 7, 8, 9, 10], <a list of 11 Text xticklabel objects>)"
      ]
     },
     "execution_count": 33,
     "metadata": {},
     "output_type": "execute_result"
    },
    {
     "data": {
      "image/png": "[encoded data removed]",
      "text/plain": [
       "<Figure size 432x288 with 1 Axes>"
      ]
     },
     "metadata": {},
     "output_type": "display_data"
    }
   ],
   "source": [
    "#boston price average by range\n",
    "# bprice0=boston_clean.loc[(boston_clean[\"price\"]<101)&(boston_clean[\"price\"]>0)][\"price\"].mean()\n",
    "# bprice100=boston_clean.loc[(boston_clean[\"price\"]>100)&(boston_clean[\"price\"]<201)][\"price\"].mean()\n",
    "# bprice200=boston_clean.loc[(boston_clean[\"price\"]>200)&(boston_clean[\"price\"]<301)][\"price\"].mean()\n",
    "# bprice300=boston_clean.loc[(boston_clean[\"price\"]>300)&(boston_clean[\"price\"]<401)][\"price\"].mean()\n",
    "# bprice400=boston_clean.loc[(boston_clean[\"price\"]>400)&(boston_clean[\"price\"]<501)][\"price\"].mean()\n",
    "# bprice500=boston_clean.loc[(boston_clean[\"price\"]>500)&(boston_clean[\"price\"]<601)][\"price\"].mean()\n",
    "# bprice600=boston_clean.loc[(boston_clean[\"price\"]>600)&(boston_clean[\"price\"]<701)][\"price\"].mean()\n",
    "# bprice700=boston_clean.loc[(boston_clean[\"price\"]>700)&(boston_clean[\"price\"]<801)][\"price\"].mean()\n",
    "# bprice800=boston_clean.loc[(boston_clean[\"price\"]>800)&(boston_clean[\"price\"]<901)][\"price\"].mean()\n",
    "# bprice900=boston_clean.loc[(boston_clean[\"price\"]>900)&(boston_clean[\"price\"]<1001)][\"price\"].mean()\n",
    "# bprice1000up=boston_clean.loc[(boston_clean[\"price\"]>1000)][\"price\"].mean()\n",
    "# bpricelist=[bprice0,bprice100,bprice200,bprice300,bprice400,bprice500,bprice600,bprice700\n",
    "#             ,bprice800,bprice900,bprice1000up]\n",
    "bpricelist=[\"0~100\",\"101~200\",\"201~300\",\"301~400\",\"401~500\",\"501~600\",\"601~700\"\n",
    "           ,\"701~800\",\"801~900\",\"901~1000\",\"1000up\"]\n",
    "#boston satisfaction average by range\n",
    "bsat0=boston_clean.loc[(boston_clean[\"price\"]<101)&(boston_clean[\"price\"]>0)][\"overall_satisfaction\"].mean()\n",
    "bsat100=boston_clean.loc[(boston_clean[\"price\"]>100)&(boston_clean[\"price\"]<201)][\"overall_satisfaction\"].mean()\n",
    "bsat200=boston_clean.loc[(boston_clean[\"price\"]>200)&(boston_clean[\"price\"]<301)][\"overall_satisfaction\"].mean()\n",
    "bsat300=boston_clean.loc[(boston_clean[\"price\"]>300)&(boston_clean[\"price\"]<401)][\"overall_satisfaction\"].mean()\n",
    "bsat400=boston_clean.loc[(boston_clean[\"price\"]>400)&(boston_clean[\"price\"]<501)][\"overall_satisfaction\"].mean()\n",
    "bsat500=boston_clean.loc[(boston_clean[\"price\"]>500)&(boston_clean[\"price\"]<601)][\"overall_satisfaction\"].mean()\n",
    "bsat600=boston_clean.loc[(boston_clean[\"price\"]>600)&(boston_clean[\"price\"]<701)][\"overall_satisfaction\"].mean()\n",
    "bsat700=boston_clean.loc[(boston_clean[\"price\"]>700)&(boston_clean[\"price\"]<801)][\"overall_satisfaction\"].mean()\n",
    "bsat800=boston_clean.loc[(boston_clean[\"price\"]>800)&(boston_clean[\"price\"]<901)][\"overall_satisfaction\"].mean()\n",
    "bsat900=boston_clean.loc[(boston_clean[\"price\"]>900)&(boston_clean[\"price\"]<1001)][\"overall_satisfaction\"].mean()\n",
    "bsat1000up=boston_clean.loc[(boston_clean[\"price\"]>1000)][\"overall_satisfaction\"].mean()\n",
    "bsatlist=[bsat0,bsat100,bsat200,bsat300,bsat400,bsat500,bsat600,bsat700\n",
    "            ,bsat800,bsat900,bsat1000up]\n",
    "plt.bar(bpricelist,bsatlist,align=\"center\")\n",
    "plt.xticks(rotation=45)"
   ]
  }
 ],
 "metadata": {
  "kernelspec": {
   "display_name": "Python 3",
   "language": "python",
   "name": "python3"
  },
  "language_info": {
   "codemirror_mode": {
    "name": "ipython",
    "version": 3
   },
   "file_extension": ".py",
   "mimetype": "text/x-python",
   "name": "python",
   "nbconvert_exporter": "python",
   "pygments_lexer": "ipython3",
   "version": "3.6.5"
  }
 },
 "nbformat": 4,
 "nbformat_minor": 2
}
