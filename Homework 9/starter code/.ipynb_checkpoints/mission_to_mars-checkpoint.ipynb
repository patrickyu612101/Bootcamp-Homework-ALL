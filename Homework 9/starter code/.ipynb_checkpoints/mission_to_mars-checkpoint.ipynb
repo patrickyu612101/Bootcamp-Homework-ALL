{
 "cells": [
  {
   "cell_type": "code",
   "execution_count": 1,
   "metadata": {},
   "outputs": [],
   "source": [
    "from splinter import Browser\n",
    "from bs4 import BeautifulSoup as bs\n",
    "import pandas as pd\n",
    "import datetime as dt\n",
    "import requests"
   ]
  },
  {
   "cell_type": "code",
   "execution_count": 18,
   "metadata": {},
   "outputs": [],
   "source": [
    "dt.datetime.now()\n",
    "browser = Browser(\"chrome\", executable_path=\"chromedriver\", headless=True)"
   ]
  },
  {
   "cell_type": "code",
   "execution_count": 17,
   "metadata": {},
   "outputs": [
    {
     "name": "stdout",
     "output_type": "stream",
     "text": [
      "\n",
      "NASA Seeking Partner in Contest to Name Next Mars Rover\n",
      "\n",
      "This artist's rendition depicts NASA's Mars 2020 rover studying its surroundings. Mars 2020 is targeted for launch in July or August 2020 from the Cape Canaveral Air Force Station in Florida. Image Credit: NASA/JPL-Caltech\n",
      "Full image and caption\n"
     ]
    }
   ],
   "source": [
    "def scrape_all():\n",
    "\n",
    "    # Initiate headless driver for deployment\n",
    "    browser = Browser(\"chrome\", executable_path=\"chromedriver\", headless=True)\n",
    "    news_title, news_paragraph = mars_news(browser)\n",
    "    print(news_title)\n",
    "    print(news_paragraph)\n",
    "    twitter_weather(browser)\n",
    "\n",
    "    # Stop webdriver and return data\n",
    "    browser.quit()\n",
    "    # return data\n",
    "scrape_all()"
   ]
  },
  {
   "cell_type": "code",
   "execution_count": 2,
   "metadata": {},
   "outputs": [],
   "source": [
    "def mars_news(browser):\n",
    "    url = 'https://mars.nasa.gov/news/8369/nasa-seeking-partner-in-contest-to-name-next-mars-rover/'\n",
    "    response = requests.get(url)\n",
    "    soup = bs(response.text, 'html.parser')\n",
    "    title=soup.find('h1', class_=\"article_title\").text\n",
    "    paragraph=soup.find('p').text\n",
    "    return title, paragraph\n",
    "\n",
    "\n",
    "    # return news_title, news_p\n"
   ]
  },
  {
   "cell_type": "code",
   "execution_count": 19,
   "metadata": {},
   "outputs": [
    {
     "data": {
      "text/plain": [
       "'https://www.jpl.nasa.gov/spaceimages/images/largesize/PIA14579_hires.jpg'"
      ]
     },
     "execution_count": 19,
     "metadata": {},
     "output_type": "execute_result"
    }
   ],
   "source": [
    "def featured_image(browser):\n",
    "    # Find and click the full image button\n",
    "#     try:\n",
    "    url=\"https://www.jpl.nasa.gov/spaceimages/?search=&category=Mars\"\n",
    "    nasaurl=\"https://www.jpl.nasa.gov\"\n",
    "    response = requests.get(url)\n",
    "    soup = bs(response.text, 'html.parser')\n",
    "    image=soup.find('a', class_=\"button fancybox\")\n",
    "    image=image.get(\"data-link\")\n",
    "    image\n",
    "#     except AttributeError:\n",
    "#         pass\n",
    "    # Use the base url to create an absolute url\n",
    "   # get the image page\n",
    "    imgurl=nasaurl+str(image)\n",
    "    imgurl\n",
    "    imgresponse=requests.get(imgurl)\n",
    "    soup = bs(imgresponse.text, 'html.parser')\n",
    "    mainimg=soup.find('img', class_=\"main_image\").get(\"src\")\n",
    "    mainimg=nasaurl+str(mainimg)\n",
    "    mainimg   \n",
    "    # return img_url\n",
    "    return mainimg\n",
    "featured_image(browser)"
   ]
  },
  {
   "cell_type": "code",
   "execution_count": 84,
   "metadata": {},
   "outputs": [
    {
     "data": {
      "text/plain": [
       "[{'title': 'Cerberus Hemisphere Enhanced',\n",
       "  'imgurl': 'http://astropedia.astrogeology.usgs.gov/download/Mars/Viking/cerberus_enhanced.tif/full.jpg'},\n",
       " {'title': 'Schiaparelli Hemisphere Enhanced',\n",
       "  'imgurl': 'http://astropedia.astrogeology.usgs.gov/download/Mars/Viking/schiaparelli_enhanced.tif/full.jpg'},\n",
       " {'title': 'Syrtis Major Hemisphere Enhanced',\n",
       "  'imgurl': 'http://astropedia.astrogeology.usgs.gov/download/Mars/Viking/syrtis_major_enhanced.tif/full.jpg'},\n",
       " {'title': 'Valles Marineris Hemisphere Enhanced',\n",
       "  'imgurl': 'http://astropedia.astrogeology.usgs.gov/download/Mars/Viking/valles_marineris_enhanced.tif/full.jpg'}]"
      ]
     },
     "execution_count": 84,
     "metadata": {},
     "output_type": "execute_result"
    }
   ],
   "source": [
    "def hemispheres(browser):\n",
    "    baseurl=\"https://astrogeology.usgs.gov\"\n",
    "    findurl=\"https://astrogeology.usgs.gov/search/results?q=hemisphere+enhanced&k1=target&v1=Mars\"\n",
    "    response = requests.get(findurl)\n",
    "    soup = bs(response.text, 'html.parser')\n",
    "    mainpages=soup.find_all(\"a\", class_=\"itemLink product-item\")\n",
    "    hemispheresInfo=[]\n",
    "    for title in mainpages:\n",
    "        imgurl=title.get(\"href\")\n",
    "        imgurl=baseurl+str(imgurl)\n",
    "        imgresponse=requests.get(imgurl)\n",
    "        imgsoup = bs(imgresponse.text, 'html.parser')\n",
    "        imgreal=imgsoup.find(\"div\", class_=\"downloads\")\n",
    "        imgreal=imgreal.find(\"a\").get(\"href\")\n",
    "        dic={\"title\":title.text,\"imgurl\":imgreal}\n",
    "        hemispheresInfo.append(dic)\n",
    "    \n",
    "    return hemispheresInfo\n",
    "hemispheres(browser)\n",
    "#     browser.visit(url)\n",
    "\n",
    "#     # Click the link, find the sample anchor, return the href\n",
    "   \n",
    "#         # Finally, we navigate backwards\n",
    "#     browser.back()\n",
    "\n",
    "#     # return hemisphere_image_urls\n",
    "\n"
   ]
  },
  {
   "cell_type": "code",
   "execution_count": 80,
   "metadata": {},
   "outputs": [
    {
     "name": "stdout",
     "output_type": "stream",
     "text": [
      "[{'title': 'Cerberus Hemisphere Enhanced', 'imgurl': 'http://astropedia.astrogeology.usgs.gov/download/Mars/Viking/cerberus_enhanced.tif/full.jpg'}, {'title': 'Schiaparelli Hemisphere Enhanced', 'imgurl': 'http://astropedia.astrogeology.usgs.gov/download/Mars/Viking/schiaparelli_enhanced.tif/full.jpg'}, {'title': 'Syrtis Major Hemisphere Enhanced', 'imgurl': 'http://astropedia.astrogeology.usgs.gov/download/Mars/Viking/syrtis_major_enhanced.tif/full.jpg'}, {'title': 'Valles Marineris Hemisphere Enhanced', 'imgurl': 'http://astropedia.astrogeology.usgs.gov/download/Mars/Viking/valles_marineris_enhanced.tif/full.jpg'}]\n"
     ]
    }
   ],
   "source": [
    "baseurl=\"https://astrogeology.usgs.gov\"\n",
    "findurl=\"https://astrogeology.usgs.gov/search/results?q=hemisphere+enhanced&k1=target&v1=Mars\"\n",
    "response = requests.get(findurl)\n",
    "soup = bs(response.text, 'html.parser')\n",
    "mainpages=soup.find_all(\"a\", class_=\"itemLink product-item\")\n",
    "hemispheresInfo=[]\n",
    "for title in mainpages:\n",
    "\n",
    "    imgurl=title.get(\"href\")\n",
    "    imgurl=baseurl+str(imgurl)\n",
    "    imgresponse=requests.get(imgurl)\n",
    "    imgsoup = bs(imgresponse.text, 'html.parser')\n",
    "    imgreal=imgsoup.find(\"div\", class_=\"downloads\")\n",
    "    imgreal=imgreal.find(\"a\").get(\"href\")\n",
    "    dic={\"title\":title.text,\"imgurl\":imgreal}\n",
    "    hemispheresInfo.append(dic)\n",
    "print(hemispheresInfo)    \n"
   ]
  },
  {
   "cell_type": "code",
   "execution_count": 21,
   "metadata": {},
   "outputs": [
    {
     "data": {
      "text/plain": [
       "'Astronomical autumn begins with the September equinox at 9:54 ET tonight https://www.wral.com/autumn-s-arrival-celebrated-differently-at-different-times-around-the-world/17864537/\\xa0…pic.twitter.com/cUArBS7WFV'"
      ]
     },
     "execution_count": 21,
     "metadata": {},
     "output_type": "execute_result"
    }
   ],
   "source": [
    "def twitter_weather(browser):\n",
    "    # class_=\"TweetTextSize TweetTextSize--normal js-tweet-text tweet-text\"\n",
    "    # return mars_weather\n",
    "    tiwtterurl=\"https://twitter.com/marswxreport?lang=en\"\n",
    "    response = requests.get(tiwtterurl)\n",
    "    soup = bs(response.text, 'html.parser')\n",
    "    weather=soup.find('p', class_=\"TweetTextSize TweetTextSize--normal js-tweet-text tweet-text\").text\n",
    "    return weather\n",
    "twitter_weather(browser)"
   ]
  },
  {
   "cell_type": "code",
   "execution_count": null,
   "metadata": {},
   "outputs": [],
   "source": [
    "if __name__ == \"__main__\":\n",
    "\n",
    "    # If running as script, print scraped data\n",
    "    print(scrape_all())\n"
   ]
  }
 ],
 "metadata": {
  "kernelspec": {
   "display_name": "Python 3",
   "language": "python",
   "name": "python3"
  },
  "language_info": {
   "codemirror_mode": {
    "name": "ipython",
    "version": 3
   },
   "file_extension": ".py",
   "mimetype": "text/x-python",
   "name": "python",
   "nbconvert_exporter": "python",
   "pygments_lexer": "ipython3",
   "version": "3.6.6"
  }
 },
 "nbformat": 4,
 "nbformat_minor": 2
}
