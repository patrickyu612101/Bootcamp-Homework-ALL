{
 "cells": [
  {
   "cell_type": "code",
   "execution_count": 1,
   "metadata": {},
   "outputs": [],
   "source": [
    "from splinter import Browser\n",
    "from bs4 import BeautifulSoup as bs\n",
    "import pandas as pd\n",
    "import datetime as dt\n",
    "import requests"
   ]
  },
  {
   "cell_type": "code",
   "execution_count": 18,
   "metadata": {},
   "outputs": [],
   "source": [
    "dt.datetime.now()\n",
    "browser = Browser(\"chrome\", executable_path=\"chromedriver\", headless=True)"
   ]
  },
  {
   "cell_type": "code",
   "execution_count": 17,
   "metadata": {},
   "outputs": [
    {
     "name": "stdout",
     "output_type": "stream",
     "text": [
      "\n",
      "NASA Seeking Partner in Contest to Name Next Mars Rover\n",
      "\n",
      "This artist's rendition depicts NASA's Mars 2020 rover studying its surroundings. Mars 2020 is targeted for launch in July or August 2020 from the Cape Canaveral Air Force Station in Florida. Image Credit: NASA/JPL-Caltech\n",
      "Full image and caption\n"
     ]
    }
   ],
   "source": [
    "def scrape_all():\n",
    "\n",
    "    # Initiate headless driver for deployment\n",
    "    browser = Browser(\"chrome\", executable_path=\"chromedriver\", headless=True)\n",
    "    news_title, news_paragraph = mars_news(browser)\n",
    "    print(news_title)\n",
    "    print(news_paragraph)\n",
    "    twitter_weather(browser)\n",
    "\n",
    "    # Stop webdriver and return data\n",
    "    browser.quit()\n",
    "    # return data\n",
    "scrape_all()"
   ]
  },
  {
   "cell_type": "code",
   "execution_count": 2,
   "metadata": {},
   "outputs": [],
   "source": [
    "def mars_news(browser):\n",
    "    url = 'https://mars.nasa.gov/news/8369/nasa-seeking-partner-in-contest-to-name-next-mars-rover/'\n",
    "    response = requests.get(url)\n",
    "    soup = bs(response.text, 'html.parser')\n",
    "    title=soup.find('h1', class_=\"article_title\").text\n",
    "    paragraph=soup.find('p').text\n",
    "    return title, paragraph\n",
    "\n",
    "\n",
    "    # return news_title, news_p\n"
   ]
  },
  {
   "cell_type": "code",
   "execution_count": 19,
   "metadata": {},
   "outputs": [
    {
     "data": {
      "text/plain": [
       "'https://www.jpl.nasa.gov/spaceimages/images/largesize/PIA14579_hires.jpg'"
      ]
     },
     "execution_count": 19,
     "metadata": {},
     "output_type": "execute_result"
    }
   ],
   "source": [
    "def featured_image(browser):\n",
    "    # Find and click the full image button\n",
    "#     try:\n",
    "    url=\"https://www.jpl.nasa.gov/spaceimages/?search=&category=Mars\"\n",
    "    nasaurl=\"https://www.jpl.nasa.gov\"\n",
    "    response = requests.get(url)\n",
    "    soup = bs(response.text, 'html.parser')\n",
    "    image=soup.find('a', class_=\"button fancybox\")\n",
    "    image=image.get(\"data-link\")\n",
    "    image\n",
    "#     except AttributeError:\n",
    "#         pass\n",
    "    # Use the base url to create an absolute url\n",
    "   # get the image page\n",
    "    imgurl=nasaurl+str(image)\n",
    "    imgurl\n",
    "    imgresponse=requests.get(imgurl)\n",
    "    soup = bs(imgresponse.text, 'html.parser')\n",
    "    mainimg=soup.find('img', class_=\"main_image\").get(\"src\")\n",
    "    mainimg=nasaurl+str(mainimg)\n",
    "    mainimg   \n",
    "    # return img_url\n",
    "    return mainimg\n",
    "featured_image(browser)"
   ]
  },
  {
   "cell_type": "code",
   "execution_count": 20,
   "metadata": {},
   "outputs": [],
   "source": [
    "def hemispheres(browser):\n",
    "\n",
    "\n",
    "    browser.visit(url)\n",
    "\n",
    "    # Click the link, find the sample anchor, return the href\n",
    "   \n",
    "        # Finally, we navigate backwards\n",
    "    browser.back()\n",
    "\n",
    "    # return hemisphere_image_urls\n",
    "\n"
   ]
  },
  {
   "cell_type": "code",
   "execution_count": 21,
   "metadata": {},
   "outputs": [
    {
     "data": {
      "text/plain": [
       "'Astronomical autumn begins with the September equinox at 9:54 ET tonight https://www.wral.com/autumn-s-arrival-celebrated-differently-at-different-times-around-the-world/17864537/\\xa0…pic.twitter.com/cUArBS7WFV'"
      ]
     },
     "execution_count": 21,
     "metadata": {},
     "output_type": "execute_result"
    }
   ],
   "source": [
    "def twitter_weather(browser):\n",
    "    # class_=\"TweetTextSize TweetTextSize--normal js-tweet-text tweet-text\"\n",
    "    # return mars_weather\n",
    "    tiwtterurl=\"https://twitter.com/marswxreport?lang=en\"\n",
    "    response = requests.get(tiwtterurl)\n",
    "    soup = bs(response.text, 'html.parser')\n",
    "    weather=soup.find('p', class_=\"TweetTextSize TweetTextSize--normal js-tweet-text tweet-text\").text\n",
    "    return weather\n",
    "twitter_weather(browser)"
   ]
  },
  {
   "cell_type": "code",
   "execution_count": null,
   "metadata": {},
   "outputs": [],
   "source": [
    "def scrape_hemisphere(html_text):\n",
    "\n",
    "    # Soupify the html text\n",
    "    \n",
    "    # Try to get href and text except if error.\n",
    "    try:\n",
    "        pass\n",
    "\n",
    "    except AttributeError:\n",
    "        pass\n",
    "\n",
    "\n",
    "    # return hemisphere\n"
   ]
  },
  {
   "cell_type": "code",
   "execution_count": 43,
   "metadata": {
    "scrolled": true
   },
   "outputs": [
    {
     "name": "stdout",
     "output_type": "stream",
     "text": [
      "<table border=\"1\" class=\"dataframe\">\n",
      "  <thead>\n",
      "    <tr style=\"text-align: right;\">\n",
      "      <th></th>\n",
      "      <th>Describtion</th>\n",
      "      <th>value</th>\n",
      "    </tr>\n",
      "  </thead>\n",
      "  <tbody>\n",
      "    <tr>\n",
      "      <th>0</th>\n",
      "      <td>Equatorial Diameter:</td>\n",
      "      <td>6,792 km</td>\n",
      "    </tr>\n",
      "    <tr>\n",
      "      <th>1</th>\n",
      "      <td>Polar Diameter:</td>\n",
      "      <td>6,752 km</td>\n",
      "    </tr>\n",
      "    <tr>\n",
      "      <th>2</th>\n",
      "      <td>Mass:</td>\n",
      "      <td>6.42 x 10^23 kg (10.7% Earth)</td>\n",
      "    </tr>\n",
      "    <tr>\n",
      "      <th>3</th>\n",
      "      <td>Moons:</td>\n",
      "      <td>2 (Phobos &amp; Deimos)</td>\n",
      "    </tr>\n",
      "    <tr>\n",
      "      <th>4</th>\n",
      "      <td>Orbit Distance:</td>\n",
      "      <td>227,943,824 km (1.52 AU)</td>\n",
      "    </tr>\n",
      "    <tr>\n",
      "      <th>5</th>\n",
      "      <td>Orbit Period:</td>\n",
      "      <td>687 days (1.9 years)</td>\n",
      "    </tr>\n",
      "    <tr>\n",
      "      <th>6</th>\n",
      "      <td>Surface Temperature:</td>\n",
      "      <td>-153 to 20 °C</td>\n",
      "    </tr>\n",
      "    <tr>\n",
      "      <th>7</th>\n",
      "      <td>First Record:</td>\n",
      "      <td>2nd millennium BC</td>\n",
      "    </tr>\n",
      "    <tr>\n",
      "      <th>8</th>\n",
      "      <td>Recorded By:</td>\n",
      "      <td>Egyptian astronomers</td>\n",
      "    </tr>\n",
      "  </tbody>\n",
      "</table>\n"
     ]
    }
   ],
   "source": [
    "url = 'https://space-facts.com/mars/'\n",
    "facthtml=pd.read_html(url)\n",
    "fact = facthtml[0]\n",
    "# print(facthtml)\n",
    "fact.columns=[\"Describtion \",\"value\"]\n",
    "fact.head()\n",
    "# fact_table=fact.to_html\n",
    "html_table = fact.to_html()\n",
    "html_table.replace('\\n', '')\n",
    "print(html_table)"
   ]
  },
  {
   "cell_type": "code",
   "execution_count": 44,
   "metadata": {},
   "outputs": [
    {
     "data": {
      "text/plain": [
       "'<table border=\"1\" class=\"dataframe\">\\n  <thead>\\n    <tr style=\"text-align: right;\">\\n      <th></th>\\n      <th>Describtion</th>\\n      <th>value</th>\\n    </tr>\\n  </thead>\\n  <tbody>\\n    <tr>\\n      <th>0</th>\\n      <td>Equatorial Diameter:</td>\\n      <td>6,792 km</td>\\n    </tr>\\n    <tr>\\n      <th>1</th>\\n      <td>Polar Diameter:</td>\\n      <td>6,752 km</td>\\n    </tr>\\n    <tr>\\n      <th>2</th>\\n      <td>Mass:</td>\\n      <td>6.42 x 10^23 kg (10.7% Earth)</td>\\n    </tr>\\n    <tr>\\n      <th>3</th>\\n      <td>Moons:</td>\\n      <td>2 (Phobos &amp; Deimos)</td>\\n    </tr>\\n    <tr>\\n      <th>4</th>\\n      <td>Orbit Distance:</td>\\n      <td>227,943,824 km (1.52 AU)</td>\\n    </tr>\\n    <tr>\\n      <th>5</th>\\n      <td>Orbit Period:</td>\\n      <td>687 days (1.9 years)</td>\\n    </tr>\\n    <tr>\\n      <th>6</th>\\n      <td>Surface Temperature:</td>\\n      <td>-153 to 20 °C</td>\\n    </tr>\\n    <tr>\\n      <th>7</th>\\n      <td>First Record:</td>\\n      <td>2nd millennium BC</td>\\n    </tr>\\n    <tr>\\n      <th>8</th>\\n      <td>Recorded By:</td>\\n      <td>Egyptian astronomers</td>\\n    </tr>\\n  </tbody>\\n</table>'"
      ]
     },
     "execution_count": 44,
     "metadata": {},
     "output_type": "execute_result"
    }
   ],
   "source": [
    "def mars_facts():\n",
    "    \n",
    "    url = 'https://space-facts.com/mars/'\n",
    "    facthtml=pd.read_html(url)\n",
    "    fact = facthtml[0]\n",
    "    fact.columns=[\"Describtion \",\"value\"]\n",
    "    fact.head()\n",
    "    html_table = fact.to_html()\n",
    "    html_table.replace('\\n', '')\n",
    "    return html_table\n",
    "\n",
    "#     try:\n",
    "#         pass\n",
    "#     except BaseException:\n",
    "#         pass\n",
    "       \n",
    "    # Add some bootstrap styling to <table>\n",
    "    # return df\n",
    "mars_facts()"
   ]
  },
  {
   "cell_type": "code",
   "execution_count": null,
   "metadata": {},
   "outputs": [],
   "source": [
    "if __name__ == \"__main__\":\n",
    "\n",
    "    # If running as script, print scraped data\n",
    "    print(scrape_all())\n"
   ]
  }
 ],
 "metadata": {
  "kernelspec": {
   "display_name": "Python 3",
   "language": "python",
   "name": "python3"
  },
  "language_info": {
   "codemirror_mode": {
    "name": "ipython",
    "version": 3
   },
   "file_extension": ".py",
   "mimetype": "text/x-python",
   "name": "python",
   "nbconvert_exporter": "python",
   "pygments_lexer": "ipython3",
   "version": "3.6.6"
  }
 },
 "nbformat": 4,
 "nbformat_minor": 2
}
