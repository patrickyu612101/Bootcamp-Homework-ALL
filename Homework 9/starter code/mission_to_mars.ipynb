{
 "cells": [
  {
   "cell_type": "code",
   "execution_count": 2,
   "metadata": {},
   "outputs": [],
   "source": [
    "from splinter import Browser\n",
    "from bs4 import BeautifulSoup as bs\n",
    "import pandas as pd\n",
    "import datetime as dt\n",
    "import requests"
   ]
  },
  {
   "cell_type": "code",
   "execution_count": 3,
   "metadata": {},
   "outputs": [],
   "source": [
    "\n",
    "browser = Browser(\"chrome\", executable_path=\"chromedriver\", headless=True)"
   ]
  },
  {
   "cell_type": "code",
   "execution_count": 11,
   "metadata": {},
   "outputs": [],
   "source": [
    "def scrape_all():\n",
    "\n",
    "    # Initiate headless driver for deployment\n",
    "    browser = Browser(\"chrome\", executable_path=\"chromedriver\", headless=True)\n",
    "    news_title, news_paragraph = mars_news(browser)\n",
    "    twitter_weather(browser)\n",
    "    featured_image(browser)\n",
    "    hemispheres(browser)\n",
    "    mars_facts()\n",
    "\n",
    "    # Stop webdriver and return data\n",
    "    browser.quit()\n",
    "    # return data\n",
    "scrape_all()"
   ]
  },
  {
   "cell_type": "code",
   "execution_count": 5,
   "metadata": {},
   "outputs": [],
   "source": [
    "def mars_news(browser):\n",
    "    url = 'https://mars.nasa.gov/news/8369/nasa-seeking-partner-in-contest-to-name-next-mars-rover/'\n",
    "    response = requests.get(url)\n",
    "    soup = bs(response.text, 'html.parser')\n",
    "    title=soup.find('h1', class_=\"article_title\").text\n",
    "    paragraph=soup.find('p').text\n",
    "    return title, paragraph\n",
    "\n",
    "\n",
    "\n"
   ]
  },
  {
   "cell_type": "code",
   "execution_count": 6,
   "metadata": {},
   "outputs": [
    {
     "data": {
      "text/plain": [
       "'https://www.jpl.nasa.gov/spaceimages/images/largesize/PIA17044_hires.jpg'"
      ]
     },
     "execution_count": 6,
     "metadata": {},
     "output_type": "execute_result"
    }
   ],
   "source": [
    "def featured_image(browser):\n",
    "    # Find and click the full image button\n",
    "#     try:\n",
    "    url=\"https://www.jpl.nasa.gov/spaceimages/?search=&category=Mars\"\n",
    "    nasaurl=\"https://www.jpl.nasa.gov\"\n",
    "    response = requests.get(url)\n",
    "    soup = bs(response.text, 'html.parser')\n",
    "    image=soup.find('a', class_=\"button fancybox\")\n",
    "    image=image.get(\"data-link\")\n",
    "    image\n",
    "#     except AttributeError:\n",
    "#         pass\n",
    "    # Use the base url to create an absolute url\n",
    "   # get the image page\n",
    "    imgurl=nasaurl+str(image)\n",
    "    imgurl\n",
    "    imgresponse=requests.get(imgurl)\n",
    "    soup = bs(imgresponse.text, 'html.parser')\n",
    "    mainimg=soup.find('img', class_=\"main_image\").get(\"src\")\n",
    "    mainimg=nasaurl+str(mainimg)\n",
    "    mainimg   \n",
    "    # return img_url\n",
    "    return mainimg\n",
    "featured_image(browser)"
   ]
  },
  {
   "cell_type": "code",
   "execution_count": 7,
   "metadata": {},
   "outputs": [
    {
     "data": {
      "text/plain": [
       "[{'title': 'Cerberus Hemisphere Enhanced',\n",
       "  'imgurl': 'http://astropedia.astrogeology.usgs.gov/download/Mars/Viking/cerberus_enhanced.tif/full.jpg'},\n",
       " {'title': 'Schiaparelli Hemisphere Enhanced',\n",
       "  'imgurl': 'http://astropedia.astrogeology.usgs.gov/download/Mars/Viking/schiaparelli_enhanced.tif/full.jpg'},\n",
       " {'title': 'Syrtis Major Hemisphere Enhanced',\n",
       "  'imgurl': 'http://astropedia.astrogeology.usgs.gov/download/Mars/Viking/syrtis_major_enhanced.tif/full.jpg'},\n",
       " {'title': 'Valles Marineris Hemisphere Enhanced',\n",
       "  'imgurl': 'http://astropedia.astrogeology.usgs.gov/download/Mars/Viking/valles_marineris_enhanced.tif/full.jpg'}]"
      ]
     },
     "execution_count": 7,
     "metadata": {},
     "output_type": "execute_result"
    }
   ],
   "source": [
    "def hemispheres(browser):\n",
    "    baseurl=\"https://astrogeology.usgs.gov\"\n",
    "    findurl=\"https://astrogeology.usgs.gov/search/results?q=hemisphere+enhanced&k1=target&v1=Mars\"\n",
    "    response = requests.get(findurl)\n",
    "    soup = bs(response.text, 'html.parser')\n",
    "    mainpages=soup.find_all(\"a\", class_=\"itemLink product-item\")\n",
    "    hemispheresInfo=[]\n",
    "    for title in mainpages:\n",
    "        imgurl=title.get(\"href\")\n",
    "        imgurl=baseurl+str(imgurl)\n",
    "        imgresponse=requests.get(imgurl)\n",
    "        imgsoup = bs(imgresponse.text, 'html.parser')\n",
    "        imgreal=imgsoup.find(\"div\", class_=\"downloads\")\n",
    "        imgreal=imgreal.find(\"a\").get(\"href\")\n",
    "        dic={\"title\":title.text,\"imgurl\":imgreal}\n",
    "        hemispheresInfo.append(dic)\n",
    "    \n",
    "    return hemispheresInfo\n",
    "hemispheres(browser)\n",
    "\n"
   ]
  },
  {
   "cell_type": "code",
   "execution_count": 9,
   "metadata": {},
   "outputs": [
    {
     "data": {
      "text/plain": [
       "'Astronomical autumn begins with the September equinox at 9:54 ET tonight https://www.wral.com/autumn-s-arrival-celebrated-differently-at-different-times-around-the-world/17864537/\\xa0…pic.twitter.com/cUArBS7WFV'"
      ]
     },
     "execution_count": 9,
     "metadata": {},
     "output_type": "execute_result"
    }
   ],
   "source": [
    "def twitter_weather(browser):\n",
    "    # class_=\"TweetTextSize TweetTextSize--normal js-tweet-text tweet-text\"\n",
    "    # return mars_weather\n",
    "    tiwtterurl=\"https://twitter.com/marswxreport?lang=en\"\n",
    "    response = requests.get(tiwtterurl)\n",
    "    soup = bs(response.text, 'html.parser')\n",
    "    weather=soup.find('p', class_=\"TweetTextSize TweetTextSize--normal js-tweet-text tweet-text\").text\n",
    "    return weather\n",
    "twitter_weather(browser)"
   ]
  },
  {
   "cell_type": "code",
   "execution_count": 24,
   "metadata": {},
   "outputs": [
    {
     "data": {
      "text/plain": [
       "str"
      ]
     },
     "execution_count": 24,
     "metadata": {},
     "output_type": "execute_result"
    }
   ],
   "source": [
    "def mars_facts():\n",
    "    facturl=\"https://space-facts.com/mars/\"\n",
    "    ftables = pd.read_html(facturl)\n",
    "    df = ftables[0]\n",
    "    df.columns = [\"Description\",\"Value\"]\n",
    "    df.set_index('Description', inplace=True)\n",
    "    fact_table = df.to_html()\n",
    "    fact_table.replace('\\n', '')\n",
    "    return fact_table"
   ]
  },
  {
   "cell_type": "code",
   "execution_count": 10,
   "metadata": {},
   "outputs": [
    {
     "name": "stdout",
     "output_type": "stream",
     "text": [
      "None\n"
     ]
    }
   ],
   "source": [
    "if __name__ == \"__main__\":\n",
    "\n",
    "    # If running as script, print scraped data\n",
    "    print(scrape_all())\n"
   ]
  },
  {
   "cell_type": "code",
   "execution_count": null,
   "metadata": {},
   "outputs": [],
   "source": []
  }
 ],
 "metadata": {
  "kernelspec": {
   "display_name": "Python 3",
   "language": "python",
   "name": "python3"
  },
  "language_info": {
   "codemirror_mode": {
    "name": "ipython",
    "version": 3
   },
   "file_extension": ".py",
   "mimetype": "text/x-python",
   "name": "python",
   "nbconvert_exporter": "python",
   "pygments_lexer": "ipython3",
   "version": "3.6.6"
  }
 },
 "nbformat": 4,
 "nbformat_minor": 2
}
