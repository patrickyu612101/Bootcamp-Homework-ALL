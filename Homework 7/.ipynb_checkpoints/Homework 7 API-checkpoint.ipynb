{
 "cells": [
  {
   "cell_type": "code",
   "execution_count": 2,
   "metadata": {},
   "outputs": [],
   "source": [
    "from werkzeug.wrappers import Request, Response\n",
    "from flask import Flask, jsonify\n",
    "app = Flask(__name__)"
   ]
  },
  {
   "cell_type": "code",
   "execution_count": 5,
   "metadata": {},
   "outputs": [
    {
     "ename": "SyntaxError",
     "evalue": "EOL while scanning string literal (<ipython-input-5-821f43b0dacf>, line 3)",
     "output_type": "error",
     "traceback": [
      "\u001b[1;36m  File \u001b[1;32m\"<ipython-input-5-821f43b0dacf>\"\u001b[1;36m, line \u001b[1;32m3\u001b[0m\n\u001b[1;33m    return \"Hello, choose from<br>/api/v1.0/precipitation,\u001b[0m\n\u001b[1;37m                                                          ^\u001b[0m\n\u001b[1;31mSyntaxError\u001b[0m\u001b[1;31m:\u001b[0m EOL while scanning string literal\n"
     ]
    }
   ],
   "source": [
    "@app.route(\"/\")\n",
    "def index():\n",
    "    return \"Hello, choose from<br>/api/v1.0/precipitation,<br>/api/v1.0/stations<br>/api/v1.0/tobs<br>/api/v1.0/<start><br>/api/v1.0/<start>/<end>.\"\n",
    "\n",
    "\n",
    "@app.route(\"/about\")\n",
    "def about():\n",
    "    name = \"Peleke\"\n",
    "    location = \"Tien Shan\"\n",
    "\n",
    "    return f\"My name is {name}, and I live in {location}.\"\n",
    "\n",
    "\n",
    "@app.route(\"/contact\")\n",
    "def contact():\n",
    "    email = \"peleke@example.com\""
   ]
  },
  {
   "cell_type": "code",
   "execution_count": 4,
   "metadata": {},
   "outputs": [
    {
     "name": "stderr",
     "output_type": "stream",
     "text": [
      " * Running on http://localhost:5000/ (Press CTRL+C to quit)\n",
      "127.0.0.1 - - [03/Sep/2018 18:18:08] \"GET / HTTP/1.1\" 200 -\n"
     ]
    }
   ],
   "source": [
    "if __name__ == '__main__':\n",
    "#     app.run(debug=True)\n",
    "    from werkzeug.serving import run_simple\n",
    "    run_simple('localhost', 5000, app)"
   ]
  },
  {
   "cell_type": "code",
   "execution_count": null,
   "metadata": {},
   "outputs": [],
   "source": []
  }
 ],
 "metadata": {
  "kernelspec": {
   "display_name": "Python 3",
   "language": "python",
   "name": "python3"
  },
  "language_info": {
   "codemirror_mode": {
    "name": "ipython",
    "version": 3
   },
   "file_extension": ".py",
   "mimetype": "text/x-python",
   "name": "python",
   "nbconvert_exporter": "python",
   "pygments_lexer": "ipython3",
   "version": "3.6.6"
  }
 },
 "nbformat": 4,
 "nbformat_minor": 2
}
